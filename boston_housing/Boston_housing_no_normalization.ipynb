{
 "cells": [
  {
   "cell_type": "code",
   "execution_count": 11,
   "metadata": {},
   "outputs": [
    {
     "name": "stdout",
     "output_type": "stream",
     "text": [
      "[3.319065809249878, 3.7189013957977295, 3.086941957473755, 3.3151135444641113]\n"
     ]
    },
    {
     "data": {
      "text/plain": [
       "3.3600056767463684"
      ]
     },
     "execution_count": 11,
     "metadata": {},
     "output_type": "execute_result"
    }
   ],
   "source": [
    "from keras.datasets import boston_housing\n",
    "from keras import models\n",
    "from keras import layers\n",
    "import numpy as np\n",
    "\n",
    "(train_data, train_targets), (test_data, test_targets) = boston_housing.load_data()\n",
    "\n",
    "\n",
    "# # 정규화 (Standard Normal Distribution; Z-Distribution)\n",
    "# '''\n",
    "# 상이한 스케일을 가지고 있는 데이터를 같은 스케일로 맞추어줌.\n",
    "# 따라서 features 별로 정규화를 진행.\n",
    "# 특성의 중앙이 0, 표준편차가 1\n",
    "# '''\n",
    "\n",
    "# mean = train_data.mean(axis=0) #평균\n",
    "# train_data -= mean #Data에서 평균을 뺴주고\n",
    "# std = train_data.std(axis=0) # 표준편차\n",
    "# train_data /= std #표준편차로 나누어준다.\n",
    "\n",
    "# '''\n",
    "# test_data를 정규화 할 때 train_data 정규화 값을 사용하는 것은\n",
    "# 머신러닝 작업 과정에서는 절대로 test_data의 어떠한 계산 값도 사용해서는 안되기 때문임.\n",
    "# '''\n",
    "# test_data -= mean\n",
    "# test_data /= std\n",
    "\n",
    "\n",
    "\n",
    "\n",
    "# Model 설정\n",
    "\n",
    "def build_model():\n",
    "    model = models.Sequential()\n",
    "    model.add(layers.Dense(64, activation='relu', input_shape=(train_data.shape[1],)))\n",
    "    model.add(layers.Dense(64, activation='relu'))\n",
    "    model.add(layers.Dense(1))\n",
    "\n",
    "    model.compile(optimizer='rmsprop', loss='mse', metrics=['mae'])\n",
    "    return model\n",
    "\n",
    "# mse(mean squared error) : 예측값과 실제값 차이의 제곱의 평균 -> 손실함수\n",
    "# mae(mean absolute error) : 예측값에서 실제값을 뺸 절대값의 평균 -> 회귀 지표\n",
    "\n",
    "\n",
    "\n",
    "\n",
    "\n",
    "\n",
    "# K-Fold cross-validation\n",
    "k = 4\n",
    "num_val_samples = len(train_data) // k\n",
    "num_epochs = 100\n",
    "all_scores = []\n",
    "\n",
    "for i in range(k):\n",
    "    # validation data & targets 설정\n",
    "    val_data = train_data[i * num_val_samples : (i + 1) * num_val_samples]\n",
    "    val_targets = train_targets[i * num_val_samples : (i + 1) * num_val_samples]\n",
    "    \n",
    "    # train data & targets 설정\n",
    "    partial_train_data = np.concatenate(\n",
    "    [\n",
    "        train_data[ : i * num_val_samples],\n",
    "        train_data[(i+1) * num_val_samples : ]\n",
    "    ],axis = 0)\n",
    "    \n",
    "    partial_train_targets = np.concatenate(\n",
    "    [\n",
    "        train_targets[ : i * num_val_samples],\n",
    "        train_targets[(i+1) * num_val_samples : ]\n",
    "    ],axis = 0)\n",
    "    \n",
    "    # train\n",
    "    model = build_model()\n",
    "    model.fit(partial_train_data, \n",
    "              partial_train_targets,\n",
    "              epochs = num_epochs,\n",
    "              batch_size = 1,\n",
    "              verbose = 0)\n",
    "    val_mse, val_mae = model.evaluate(val_data, val_targets, verbose = 0)\n",
    "    all_scores.append(val_mae)\n",
    "    \n",
    "    \n",
    "print(all_scores)\n",
    "np.mean(all_scores)"
   ]
  },
  {
   "cell_type": "code",
   "execution_count": 21,
   "metadata": {},
   "outputs": [
    {
     "name": "stdout",
     "output_type": "stream",
     "text": [
      "1 번째 실행중\n",
      "2 번째 실행중\n",
      "3 번째 실행중\n",
      "4 번째 실행중\n"
     ]
    }
   ],
   "source": [
    "num_epochs = 500\n",
    "all_mae_histories = []\n",
    "all_val_mae_histories = []\n",
    "\n",
    "for i in range(k):\n",
    "    print(i + 1, '번째 실행중')\n",
    "    # validation data & targets 설정\n",
    "    val_data = train_data[i * num_val_samples : (i + 1) * num_val_samples]\n",
    "    val_targets = train_targets[i * num_val_samples : (i + 1) * num_val_samples]\n",
    "    \n",
    "    # train data & targets 설정\n",
    "    partial_train_data = np.concatenate(\n",
    "    [\n",
    "        train_data[ : i * num_val_samples],\n",
    "        train_data[(i+1) * num_val_samples : ]\n",
    "    ],axis = 0)\n",
    "    partial_train_targets = np.concatenate(\n",
    "    [\n",
    "        train_targets[ : i * num_val_samples],\n",
    "        train_targets[(i+1) * num_val_samples : ]\n",
    "    ],axis = 0)\n",
    "    \n",
    "    # train\n",
    "    model = build_model()\n",
    "    history = model.fit(partial_train_data, \n",
    "              partial_train_targets,\n",
    "              validation_data = (val_data,val_targets),\n",
    "              epochs = num_epochs,\n",
    "              batch_size = 1,\n",
    "              verbose = 0)\n",
    "    mae_history = history.history['mae']\n",
    "    val_mae_history = history.history['val_mae']\n",
    "    all_mae_histories.append(mae_history)\n",
    "    all_val_mae_histories.append(val_mae_history)\n",
    "    \n",
    "    \n",
    "average_mae_history = [\n",
    "    np.mean([x[i] for x in all_mae_histories]) for i in range(num_epochs)\n",
    "]\n",
    "\n",
    "average_val_mae_history = [\n",
    "    np.mean([x[i] for x in all_val_mae_histories]) for i in range(num_epochs)\n",
    "]\n",
    "\n"
   ]
  },
  {
   "cell_type": "code",
   "execution_count": 26,
   "metadata": {},
   "outputs": [
    {
     "data": {
      "image/png": "[encoded data removed]",
      "text/plain": [
       "<Figure size 432x288 with 1 Axes>"
      ]
     },
     "metadata": {
      "needs_background": "light"
     },
     "output_type": "display_data"
    }
   ],
   "source": [
    "import matplotlib.pyplot as plt\n",
    "\n",
    "\n",
    "# plt.plot(range(1, len(average_mae_history) + 1), average_mae_history, 'red', label='train mae')\n",
    "plt.plot(range(1, len(average_val_mae_history) + 1), average_val_mae_history, 'blue', label='val mae')\n",
    "plt.xlabel('Epochs')\n",
    "plt.ylabel('Validation MAE')\n",
    "plt.show()"
   ]
  },
  {
   "cell_type": "code",
   "execution_count": 27,
   "metadata": {},
   "outputs": [
    {
     "data": {
      "image/png": "[encoded data removed]",
      "text/plain": [
       "<Figure size 432x288 with 1 Axes>"
      ]
     },
     "metadata": {
      "needs_background": "light"
     },
     "output_type": "display_data"
    }
   ],
   "source": [
    "# exponential moving average(smooth curve)\n",
    "\n",
    "def smooth_curve(points, factor = 0.9):\n",
    "    smoothed_points = []\n",
    "    for point in points:\n",
    "        if smoothed_points:\n",
    "            previous = smoothed_points[-1]\n",
    "            smoothed_points.append(previous * factor + point * (1 - factor))\n",
    "        else:\n",
    "            smoothed_points.append(point)\n",
    "    return smoothed_points\n",
    "\n",
    "smooth_mae_history = smooth_curve(average_mae_history[10:])\n",
    "smooth_val_mae_history = smooth_curve(average_val_mae_history[10:])\n",
    "\n",
    "# plt.plot(range(1, len(smooth_mae_history) + 1), smooth_mae_history, 'red')\n",
    "plt.plot(range(1, len(smooth_val_mae_history) + 1), smooth_val_mae_history, 'blue')\n",
    "plt.xlabel('Epochs')\n",
    "plt.ylabel('Validation MAE')\n",
    "plt.show()"
   ]
  },
  {
   "cell_type": "code",
   "execution_count": 15,
   "metadata": {},
   "outputs": [
    {
     "name": "stdout",
     "output_type": "stream",
     "text": [
      "102/102 [==============================] - 0s 1ms/step\n"
     ]
    },
    {
     "data": {
      "text/plain": [
       "4.031469345092773"
      ]
     },
     "execution_count": 15,
     "metadata": {},
     "output_type": "execute_result"
    }
   ],
   "source": [
    "# 최종모델 훈련\n",
    "model = build_model()\n",
    "model.fit(train_data,\n",
    "          train_targets,\n",
    "          epochs = 80,\n",
    "          batch_size = 16,\n",
    "          verbose = 0)\n",
    "test_mse_score, test_mae_score = model.evaluate(test_data, test_targets)\n",
    "\n",
    "test_mae_score"
   ]
  },
  {
   "cell_type": "code",
   "execution_count": 31,
   "metadata": {},
   "outputs": [
    {
     "data": {
      "text/plain": [
       "list"
      ]
     },
     "execution_count": 31,
     "metadata": {},
     "output_type": "execute_result"
    }
   ],
   "source": [
    "type(val_mae_history)"
   ]
  },
  {
   "cell_type": "code",
   "execution_count": 35,
   "metadata": {},
   "outputs": [
    {
     "name": "stdout",
     "output_type": "stream",
     "text": [
      "2.846587121486664\n",
      "388\n",
      "\n"
     ]
    }
   ],
   "source": [
    "# print(average_val_mae_history.index(min(average_val_mae_history)))\n",
    "print(min(average_val_mae_history))\n",
    "print(smooth_val_mae_history.index(min(smooth_val_mae_history)))\n",
    "print()"
   ]
  },
  {
   "cell_type": "code",
   "execution_count": null,
   "metadata": {},
   "outputs": [],
   "source": []
  }
 ],
 "metadata": {
  "kernelspec": {
   "display_name": "Python 3",
   "language": "python",
   "name": "python3"
  },
  "language_info": {
   "codemirror_mode": {
    "name": "ipython",
    "version": 3
   },
   "file_extension": ".py",
   "mimetype": "text/x-python",
   "name": "python",
   "nbconvert_exporter": "python",
   "pygments_lexer": "ipython3",
   "version": "3.7.7"
  }
 },
 "nbformat": 4,
 "nbformat_minor": 4
}
