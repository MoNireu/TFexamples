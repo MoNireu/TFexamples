{
 "cells": [
  {
   "cell_type": "code",
   "execution_count": 1,
   "metadata": {},
   "outputs": [
    {
     "name": "stderr",
     "output_type": "stream",
     "text": [
      "Using TensorFlow backend.\n"
     ]
    }
   ],
   "source": [
    "from keras.datasets import reuters"
   ]
  },
  {
   "cell_type": "code",
   "execution_count": 2,
   "metadata": {},
   "outputs": [
    {
     "name": "stdout",
     "output_type": "stream",
     "text": [
      "Downloading data from https://s3.amazonaws.com/text-datasets/reuters.npz\n",
      "2113536/2110848 [==============================] - 2s 1us/step\n"
     ]
    }
   ],
   "source": [
    "(train_data, train_label), (test_data, test_label) = reuters.load_data(num_words=10000)"
   ]
  },
  {
   "cell_type": "code",
   "execution_count": 3,
   "metadata": {},
   "outputs": [
    {
     "ename": "AttributeError",
     "evalue": "'numpy.ndarray' object has no attribute 'length'",
     "output_type": "error",
     "traceback": [
      "\u001b[0;31m---------------------------------------------------------------------------\u001b[0m",
      "\u001b[0;31mAttributeError\u001b[0m                            Traceback (most recent call last)",
      "\u001b[0;32m<ipython-input-3-44439d58993f>\u001b[0m in \u001b[0;36m<module>\u001b[0;34m\u001b[0m\n\u001b[0;32m----> 1\u001b[0;31m \u001b[0mtest_data\u001b[0m\u001b[0;34m.\u001b[0m\u001b[0mlength\u001b[0m\u001b[0;34m\u001b[0m\u001b[0;34m\u001b[0m\u001b[0m\n\u001b[0m",
      "\u001b[0;31mAttributeError\u001b[0m: 'numpy.ndarray' object has no attribute 'length'"
     ]
    }
   ],
   "source": [
    "test_data.length"
   ]
  },
  {
   "cell_type": "code",
   "execution_count": 19,
   "metadata": {},
   "outputs": [
    {
     "data": {
      "text/plain": [
       "(8982, 10000)"
      ]
     },
     "execution_count": 19,
     "metadata": {},
     "output_type": "execute_result"
    }
   ],
   "source": [
    "x_train.shape"
   ]
  },
  {
   "cell_type": "code",
   "execution_count": 5,
   "metadata": {},
   "outputs": [
    {
     "data": {
      "text/plain": [
       "8982"
      ]
     },
     "execution_count": 5,
     "metadata": {},
     "output_type": "execute_result"
    }
   ],
   "source": [
    "len(train_data)"
   ]
  },
  {
   "cell_type": "code",
   "execution_count": 6,
   "metadata": {},
   "outputs": [
    {
     "data": {
      "text/plain": [
       "8982"
      ]
     },
     "execution_count": 6,
     "metadata": {},
     "output_type": "execute_result"
    }
   ],
   "source": [
    "len(train_label)"
   ]
  },
  {
   "cell_type": "code",
   "execution_count": 7,
   "metadata": {},
   "outputs": [],
   "source": [
    "import numpy as np"
   ]
  },
  {
   "cell_type": "code",
   "execution_count": 10,
   "metadata": {},
   "outputs": [],
   "source": [
    "def vectorize_sequences (sequences, dimension=10000) :\n",
    "    results = np.zeros((len(sequences), dimension))\n",
    "    for i, sequence in enumerate(sequences) :\n",
    "        results[i, sequence] = 1.\n",
    "    return results\n",
    "\n",
    "x_train = vectorize_sequences(train_data)\n",
    "x_test = vectorize_sequences(test_data)"
   ]
  },
  {
   "cell_type": "code",
   "execution_count": 11,
   "metadata": {},
   "outputs": [],
   "source": [
    "def to_one_hot(labels, dimension = 46):\n",
    "    results = np.zeros((len(labels), dimension))\n",
    "    for i, label in enumerate(labels):\n",
    "        results[i, label] = 1.\n",
    "    return results\n",
    "\n",
    "one_hot_train_labels = to_one_hot(train_label)\n",
    "one_hot_test_labels = to_one_hot(test_label)"
   ]
  },
  {
   "cell_type": "code",
   "execution_count": 13,
   "metadata": {},
   "outputs": [],
   "source": [
    "from keras.utils.np_utils import to_categorical"
   ]
  },
  {
   "cell_type": "code",
   "execution_count": 15,
   "metadata": {},
   "outputs": [],
   "source": [
    "one_hot_train_labels = to_categorical(train_label)\n",
    "one_hot_test_labels = to_categorical(test_label)"
   ]
  },
  {
   "cell_type": "code",
   "execution_count": 21,
   "metadata": {},
   "outputs": [
    {
     "name": "stdout",
     "output_type": "stream",
     "text": [
      "WARNING:tensorflow:From /Users/monireu/opt/anaconda3/lib/python3.7/site-packages/tensorflow_core/python/ops/resource_variable_ops.py:1630: calling BaseResourceVariable.__init__ (from tensorflow.python.ops.resource_variable_ops) with constraint is deprecated and will be removed in a future version.\n",
      "Instructions for updating:\n",
      "If using Keras pass *_constraint arguments to layers.\n"
     ]
    }
   ],
   "source": [
    "from keras import models\n",
    "from keras import layers\n",
    "\n",
    "model = models.Sequential()\n",
    "model.add(layers.Dense(64, activation='relu', input_shape=(10000,)))\n",
    "model.add(layers.Dense(64, activation='relu'))\n",
    "model.add(layers.Dense(46, activation='softmax'))"
   ]
  },
  {
   "cell_type": "code",
   "execution_count": 28,
   "metadata": {},
   "outputs": [],
   "source": [
    "model.compile(optimizer='rmsprop',\n",
    "             loss='categorical_crossentropy',\n",
    "             metrics=['acc'])"
   ]
  },
  {
   "cell_type": "code",
   "execution_count": 29,
   "metadata": {},
   "outputs": [],
   "source": [
    "x_val = x_train[:1000]\n",
    "partical_x_train = x_train[1000:]\n",
    "y_val = one_hot_train_labels[:1000]\n",
    "partical_y_train = one_hot_train_labels[1000:]"
   ]
  },
  {
   "cell_type": "code",
   "execution_count": 30,
   "metadata": {},
   "outputs": [
    {
     "name": "stdout",
     "output_type": "stream",
     "text": [
      "Train on 7982 samples, validate on 1000 samples\n",
      "Epoch 1/20\n",
      "7982/7982 [==============================] - 1s 140us/step - loss: 2.6433 - acc: 0.5428 - val_loss: 1.7836 - val_acc: 0.6540\n",
      "Epoch 2/20\n",
      "7982/7982 [==============================] - 1s 71us/step - loss: 1.4571 - acc: 0.6997 - val_loss: 1.3335 - val_acc: 0.6990\n",
      "Epoch 3/20\n",
      "7982/7982 [==============================] - 1s 66us/step - loss: 1.0696 - acc: 0.7692 - val_loss: 1.1584 - val_acc: 0.7410\n",
      "Epoch 4/20\n",
      "7982/7982 [==============================] - 1s 65us/step - loss: 0.8354 - acc: 0.8247 - val_loss: 1.0483 - val_acc: 0.7680\n",
      "Epoch 5/20\n",
      "7982/7982 [==============================] - 1s 67us/step - loss: 0.6660 - acc: 0.8606 - val_loss: 0.9451 - val_acc: 0.8020\n",
      "Epoch 6/20\n",
      "7982/7982 [==============================] - 1s 66us/step - loss: 0.5295 - acc: 0.8890 - val_loss: 0.9047 - val_acc: 0.7990\n",
      "Epoch 7/20\n",
      "7982/7982 [==============================] - 1s 72us/step - loss: 0.4284 - acc: 0.9129 - val_loss: 0.8890 - val_acc: 0.8100\n",
      "Epoch 8/20\n",
      "7982/7982 [==============================] - 1s 68us/step - loss: 0.3499 - acc: 0.9292 - val_loss: 0.8755 - val_acc: 0.8170\n",
      "Epoch 9/20\n",
      "7982/7982 [==============================] - 1s 71us/step - loss: 0.2887 - acc: 0.9389 - val_loss: 0.8977 - val_acc: 0.8030\n",
      "Epoch 10/20\n",
      "7982/7982 [==============================] - 1s 73us/step - loss: 0.2414 - acc: 0.9451 - val_loss: 0.8802 - val_acc: 0.8190\n",
      "Epoch 11/20\n",
      "7982/7982 [==============================] - 1s 67us/step - loss: 0.2090 - acc: 0.9495 - val_loss: 0.9111 - val_acc: 0.8160\n",
      "Epoch 12/20\n",
      "7982/7982 [==============================] - 1s 67us/step - loss: 0.1850 - acc: 0.9525 - val_loss: 0.9133 - val_acc: 0.8170\n",
      "Epoch 13/20\n",
      "7982/7982 [==============================] - 1s 66us/step - loss: 0.1619 - acc: 0.9529 - val_loss: 0.9564 - val_acc: 0.8060\n",
      "Epoch 14/20\n",
      "7982/7982 [==============================] - 1s 67us/step - loss: 0.1533 - acc: 0.9548 - val_loss: 1.0580 - val_acc: 0.7890\n",
      "Epoch 15/20\n",
      "7982/7982 [==============================] - 1s 66us/step - loss: 0.1403 - acc: 0.9543 - val_loss: 0.9880 - val_acc: 0.8020\n",
      "Epoch 16/20\n",
      "7982/7982 [==============================] - 1s 66us/step - loss: 0.1312 - acc: 0.9560 - val_loss: 1.0194 - val_acc: 0.8020\n",
      "Epoch 17/20\n",
      "7982/7982 [==============================] - 1s 66us/step - loss: 0.1266 - acc: 0.9560 - val_loss: 1.0211 - val_acc: 0.8130\n",
      "Epoch 18/20\n",
      "7982/7982 [==============================] - 1s 69us/step - loss: 0.1237 - acc: 0.9584 - val_loss: 1.0112 - val_acc: 0.8110\n",
      "Epoch 19/20\n",
      "7982/7982 [==============================] - 1s 66us/step - loss: 0.1157 - acc: 0.9575 - val_loss: 1.0154 - val_acc: 0.8150\n",
      "Epoch 20/20\n",
      "7982/7982 [==============================] - 1s 66us/step - loss: 0.1114 - acc: 0.9575 - val_loss: 1.0493 - val_acc: 0.8080\n"
     ]
    }
   ],
   "source": [
    "history = model.fit(partical_x_train,\n",
    "                   partical_y_train,\n",
    "                   epochs=20,\n",
    "                   batch_size=512,\n",
    "                   validation_data=(x_val, y_val))"
   ]
  },
  {
   "cell_type": "code",
   "execution_count": 42,
   "metadata": {},
   "outputs": [
    {
     "ename": "TypeError",
     "evalue": "'str' object is not callable",
     "output_type": "error",
     "traceback": [
      "\u001b[0;31m---------------------------------------------------------------------------\u001b[0m",
      "\u001b[0;31mTypeError\u001b[0m                                 Traceback (most recent call last)",
      "\u001b[0;32m<ipython-input-42-7d02f2cfeb18>\u001b[0m in \u001b[0;36m<module>\u001b[0;34m\u001b[0m\n\u001b[1;32m      7\u001b[0m \u001b[0mplt\u001b[0m\u001b[0;34m.\u001b[0m\u001b[0mplot\u001b[0m\u001b[0;34m(\u001b[0m\u001b[0mepochs\u001b[0m\u001b[0;34m,\u001b[0m \u001b[0mval_loss\u001b[0m\u001b[0;34m,\u001b[0m \u001b[0;34m'b'\u001b[0m\u001b[0;34m,\u001b[0m \u001b[0mlabel\u001b[0m\u001b[0;34m=\u001b[0m\u001b[0;34m'Validationloss'\u001b[0m\u001b[0;34m)\u001b[0m\u001b[0;34m\u001b[0m\u001b[0;34m\u001b[0m\u001b[0m\n\u001b[1;32m      8\u001b[0m \u001b[0mplt\u001b[0m\u001b[0;34m.\u001b[0m\u001b[0mtitle\u001b[0m\u001b[0;34m(\u001b[0m\u001b[0;34m'Training and validation loss'\u001b[0m\u001b[0;34m)\u001b[0m\u001b[0;34m\u001b[0m\u001b[0;34m\u001b[0m\u001b[0m\n\u001b[0;32m----> 9\u001b[0;31m \u001b[0mplt\u001b[0m\u001b[0;34m.\u001b[0m\u001b[0mxlabel\u001b[0m\u001b[0;34m(\u001b[0m\u001b[0;34m'Epochs'\u001b[0m\u001b[0;34m)\u001b[0m\u001b[0;34m\u001b[0m\u001b[0;34m\u001b[0m\u001b[0m\n\u001b[0m\u001b[1;32m     10\u001b[0m \u001b[0mplt\u001b[0m\u001b[0;34m.\u001b[0m\u001b[0mylabel\u001b[0m\u001b[0;34m(\u001b[0m\u001b[0;34m'Loss'\u001b[0m\u001b[0;34m)\u001b[0m\u001b[0;34m\u001b[0m\u001b[0;34m\u001b[0m\u001b[0m\n\u001b[1;32m     11\u001b[0m \u001b[0mplt\u001b[0m\u001b[0;34m.\u001b[0m\u001b[0mlegend\u001b[0m\u001b[0;34m(\u001b[0m\u001b[0;34m)\u001b[0m\u001b[0;34m\u001b[0m\u001b[0;34m\u001b[0m\u001b[0m\n",
      "\u001b[0;31mTypeError\u001b[0m: 'str' object is not callable"
     ]
    },
    {
     "data": {
      "image/png": "[encoded data removed]",
      "text/plain": [
       "<Figure size 432x288 with 1 Axes>"
      ]
     },
     "metadata": {
      "needs_background": "light"
     },
     "output_type": "display_data"
    }
   ],
   "source": [
    "import matplotlib.pyplot as plt\n",
    "\n",
    "loss = history.history['loss']\n",
    "val_loss = history.history['val_loss']\n",
    "epochs = range(1, len(loss) + 1)\n",
    "plt.plot(epochs, loss, 'bo', label='Training loss')\n",
    "plt.plot(epochs, val_loss, 'b', label='Validationloss')\n",
    "plt.title('Training and validation loss')\n",
    "plt.xlabel('Epochs')\n",
    "plt.ylabel('Loss')\n",
    "plt.legend()\n",
    "plt.show()"
   ]
  },
  {
   "cell_type": "code",
   "execution_count": 43,
   "metadata": {},
   "outputs": [
    {
     "data": {
      "image/png": "[encoded data removed]",
      "text/plain": [
       "<Figure size 432x288 with 1 Axes>"
      ]
     },
     "metadata": {
      "needs_background": "light"
     },
     "output_type": "display_data"
    }
   ],
   "source": [
    "plt.clf()\n",
    "\n",
    "acc = history.history['acc']\n",
    "val_acc = history.history['val_acc']\n",
    "plt.plot(epochs, acc, 'bo', label='Train acc')\n",
    "plt.plot(epochs, val_acc, 'b', label = 'Val acc')\n",
    "plt.xlabel = 'epochs'\n",
    "plt.ylabel = 'acc'\n",
    "plt.legend()\n",
    "plt.show()"
   ]
  },
  {
   "cell_type": "code",
   "execution_count": 38,
   "metadata": {},
   "outputs": [
    {
     "name": "stdout",
     "output_type": "stream",
     "text": [
      "Train on 7982 samples, validate on 1000 samples\n",
      "Epoch 1/9\n",
      "7982/7982 [==============================] - 1s 113us/step - loss: 2.7906 - acc: 0.4414 - val_loss: 1.8358 - val_acc: 0.6090\n",
      "Epoch 2/9\n",
      "7982/7982 [==============================] - 1s 66us/step - loss: 1.4744 - acc: 0.6927 - val_loss: 1.3078 - val_acc: 0.6980\n",
      "Epoch 3/9\n",
      "7982/7982 [==============================] - 1s 66us/step - loss: 1.0605 - acc: 0.7737 - val_loss: 1.1103 - val_acc: 0.7590\n",
      "Epoch 4/9\n",
      "7982/7982 [==============================] - 1s 66us/step - loss: 0.8259 - acc: 0.8222 - val_loss: 0.9954 - val_acc: 0.7960\n",
      "Epoch 5/9\n",
      "7982/7982 [==============================] - 1s 66us/step - loss: 0.6518 - acc: 0.8637 - val_loss: 0.9603 - val_acc: 0.8020\n",
      "Epoch 6/9\n",
      "7982/7982 [==============================] - 1s 66us/step - loss: 0.5188 - acc: 0.8928 - val_loss: 0.9028 - val_acc: 0.8120\n",
      "Epoch 7/9\n",
      "7982/7982 [==============================] - 1s 75us/step - loss: 0.4176 - acc: 0.9128 - val_loss: 0.8631 - val_acc: 0.8150\n",
      "Epoch 8/9\n",
      "7982/7982 [==============================] - 1s 69us/step - loss: 0.3406 - acc: 0.9262 - val_loss: 0.8815 - val_acc: 0.8070\n",
      "Epoch 9/9\n",
      "7982/7982 [==============================] - 1s 93us/step - loss: 0.2798 - acc: 0.9391 - val_loss: 0.8925 - val_acc: 0.8070\n"
     ]
    },
    {
     "data": {
      "text/plain": [
       "<keras.callbacks.callbacks.History at 0x67422b7d0>"
      ]
     },
     "execution_count": 38,
     "metadata": {},
     "output_type": "execute_result"
    }
   ],
   "source": [
    "model.fit(partical_x_train,\n",
    "         partical_y_train,\n",
    "         epochs=9,\n",
    "         batch_size=512,\n",
    "         validation_data=(x_val, y_val))"
   ]
  },
  {
   "cell_type": "code",
   "execution_count": 36,
   "metadata": {},
   "outputs": [],
   "source": []
  },
  {
   "cell_type": "code",
   "execution_count": 55,
   "metadata": {},
   "outputs": [],
   "source": [
    "model = models.Sequential()\n",
    "\n",
    "model.add(layers.Dense(64, activation='relu', input_shape=(10000,)))\n",
    "model.add(layers.Dense(64, activation='relu'))\n",
    "model.add(layers.Dense(46, activation='softmax'))\n",
    "\n",
    "model.compile(optimizer='rmsprop',\n",
    "             loss='categorical_crossentropy',\n",
    "             metrics=['acc'])"
   ]
  },
  {
   "cell_type": "code",
   "execution_count": 56,
   "metadata": {},
   "outputs": [
    {
     "name": "stdout",
     "output_type": "stream",
     "text": [
      "Train on 7982 samples, validate on 1000 samples\n",
      "Epoch 1/9\n",
      "7982/7982 [==============================] - 1s 120us/step - loss: 2.7936 - acc: 0.4796 - val_loss: 1.8840 - val_acc: 0.6440\n",
      "Epoch 2/9\n",
      "7982/7982 [==============================] - 1s 67us/step - loss: 1.4918 - acc: 0.7093 - val_loss: 1.3178 - val_acc: 0.7300\n",
      "Epoch 3/9\n",
      "7982/7982 [==============================] - 1s 67us/step - loss: 1.0587 - acc: 0.7810 - val_loss: 1.1301 - val_acc: 0.7570\n",
      "Epoch 4/9\n",
      "7982/7982 [==============================] - 1s 67us/step - loss: 0.8237 - acc: 0.8254 - val_loss: 1.0258 - val_acc: 0.7780\n",
      "Epoch 5/9\n",
      "7982/7982 [==============================] - 1s 72us/step - loss: 0.6526 - acc: 0.8641 - val_loss: 0.9478 - val_acc: 0.8130\n",
      "Epoch 6/9\n",
      "7982/7982 [==============================] - 1s 67us/step - loss: 0.5267 - acc: 0.8879 - val_loss: 0.9006 - val_acc: 0.8180\n",
      "Epoch 7/9\n",
      "7982/7982 [==============================] - 1s 74us/step - loss: 0.4205 - acc: 0.9139 - val_loss: 0.8836 - val_acc: 0.8200\n",
      "Epoch 8/9\n",
      "7982/7982 [==============================] - 1s 74us/step - loss: 0.3456 - acc: 0.9266 - val_loss: 0.8777 - val_acc: 0.8070\n",
      "Epoch 9/9\n",
      "7982/7982 [==============================] - 1s 74us/step - loss: 0.2857 - acc: 0.9380 - val_loss: 0.8933 - val_acc: 0.8130\n"
     ]
    },
    {
     "data": {
      "text/plain": [
       "<keras.callbacks.callbacks.History at 0x674a2fa90>"
      ]
     },
     "execution_count": 56,
     "metadata": {},
     "output_type": "execute_result"
    }
   ],
   "source": [
    "model.fit(partical_x_train,\n",
    "         partical_y_train,\n",
    "         epochs=9,\n",
    "         batch_size=512,\n",
    "         validation_data=(x_val, y_val))"
   ]
  },
  {
   "cell_type": "code",
   "execution_count": 57,
   "metadata": {},
   "outputs": [
    {
     "name": "stdout",
     "output_type": "stream",
     "text": [
      "2246/2246 [==============================] - 0s 49us/step\n"
     ]
    }
   ],
   "source": [
    "results = model.evaluate(x_test, one_hot_test_labels)"
   ]
  },
  {
   "cell_type": "code",
   "execution_count": 58,
   "metadata": {},
   "outputs": [
    {
     "data": {
      "text/plain": [
       "[0.9844955663434757, 0.7876224517822266]"
      ]
     },
     "execution_count": 58,
     "metadata": {},
     "output_type": "execute_result"
    }
   ],
   "source": [
    "results"
   ]
  },
  {
   "cell_type": "code",
   "execution_count": 59,
   "metadata": {},
   "outputs": [
    {
     "ename": "SyntaxError",
     "evalue": "invalid syntax (<ipython-input-59-b7f3bb05b63f>, line 1)",
     "output_type": "error",
     "traceback": [
      "\u001b[0;36m  File \u001b[0;32m\"<ipython-input-59-b7f3bb05b63f>\"\u001b[0;36m, line \u001b[0;32m1\u001b[0m\n\u001b[0;31m    predictions[0.shape]\u001b[0m\n\u001b[0m                      ^\u001b[0m\n\u001b[0;31mSyntaxError\u001b[0m\u001b[0;31m:\u001b[0m invalid syntax\n"
     ]
    }
   ],
   "source": [
    "predictions[0.shape]"
   ]
  },
  {
   "cell_type": "code",
   "execution_count": 60,
   "metadata": {},
   "outputs": [],
   "source": [
    "predictions = model.predict(x_test)"
   ]
  },
  {
   "cell_type": "code",
   "execution_count": 61,
   "metadata": {},
   "outputs": [
    {
     "data": {
      "text/plain": [
       "(46,)"
      ]
     },
     "execution_count": 61,
     "metadata": {},
     "output_type": "execute_result"
    }
   ],
   "source": [
    "predictions[0].shape"
   ]
  },
  {
   "cell_type": "code",
   "execution_count": 62,
   "metadata": {},
   "outputs": [
    {
     "data": {
      "text/plain": [
       "1.0000002"
      ]
     },
     "execution_count": 62,
     "metadata": {},
     "output_type": "execute_result"
    }
   ],
   "source": [
    "np.sum(predictions[0])"
   ]
  },
  {
   "cell_type": "code",
   "execution_count": 63,
   "metadata": {},
   "outputs": [
    {
     "data": {
      "text/plain": [
       "3"
      ]
     },
     "execution_count": 63,
     "metadata": {},
     "output_type": "execute_result"
    }
   ],
   "source": [
    "np.argmax(predictions[0])\n"
   ]
  },
  {
   "cell_type": "code",
   "execution_count": 64,
   "metadata": {},
   "outputs": [
    {
     "data": {
      "text/plain": [
       "array([4.16471186e-04, 1.17506390e-03, 5.63254929e-04, 5.23431361e-01,\n",
       "       4.32319611e-01, 2.04735006e-05, 4.94943990e-04, 4.94714943e-04,\n",
       "       3.25306086e-03, 5.03247429e-05, 2.67488678e-04, 2.26637884e-03,\n",
       "       5.87443101e-05, 5.49442950e-04, 7.88452628e-04, 5.78170468e-04,\n",
       "       1.07758995e-02, 2.16882909e-04, 3.40074359e-04, 7.20143435e-04,\n",
       "       5.05503407e-03, 1.37827685e-03, 1.04981438e-04, 2.86644278e-03,\n",
       "       4.50131076e-04, 2.09532791e-05, 4.51207045e-04, 3.96120275e-04,\n",
       "       1.54869558e-04, 8.81418062e-04, 1.21648969e-04, 1.75360811e-03,\n",
       "       3.80691257e-04, 4.75030509e-04, 1.92312978e-03, 3.36810888e-04,\n",
       "       2.53352599e-04, 4.98165791e-05, 3.32832686e-04, 2.59375782e-03,\n",
       "       4.60072079e-05, 7.87426892e-04, 2.11062634e-05, 1.66193582e-04,\n",
       "       1.07085201e-04, 1.11171343e-04], dtype=float32)"
      ]
     },
     "execution_count": 64,
     "metadata": {},
     "output_type": "execute_result"
    }
   ],
   "source": [
    "predictions[0]"
   ]
  },
  {
   "cell_type": "code",
   "execution_count": 68,
   "metadata": {},
   "outputs": [],
   "source": [
    "y_train = np.array(train_label)\n",
    "y_test = np.array(test_label)"
   ]
  },
  {
   "cell_type": "code",
   "execution_count": null,
   "metadata": {},
   "outputs": [],
   "source": []
  }
 ],
 "metadata": {
  "kernelspec": {
   "display_name": "Python 3",
   "language": "python",
   "name": "python3"
  },
  "language_info": {
   "codemirror_mode": {
    "name": "ipython",
    "version": 3
   },
   "file_extension": ".py",
   "mimetype": "text/x-python",
   "name": "python",
   "nbconvert_exporter": "python",
   "pygments_lexer": "ipython3",
   "version": "3.7.7"
  }
 },
 "nbformat": 4,
 "nbformat_minor": 4
}
